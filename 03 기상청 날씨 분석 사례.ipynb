{
 "cells": [
  {
   "cell_type": "code",
   "execution_count": 1,
   "metadata": {},
   "outputs": [],
   "source": [
    "import pandas as pd"
   ]
  },
  {
   "cell_type": "code",
   "execution_count": 2,
   "metadata": {},
   "outputs": [],
   "source": [
    "날씨 = pd.read_excel('data/weather.xlsx')"
   ]
  },
  {
   "cell_type": "code",
   "execution_count": 3,
   "metadata": {},
   "outputs": [
    {
     "data": {
      "text/html": [
       "<div>\n",
       "<style scoped>\n",
       "    .dataframe tbody tr th:only-of-type {\n",
       "        vertical-align: middle;\n",
       "    }\n",
       "\n",
       "    .dataframe tbody tr th {\n",
       "        vertical-align: top;\n",
       "    }\n",
       "\n",
       "    .dataframe thead th {\n",
       "        text-align: right;\n",
       "    }\n",
       "</style>\n",
       "<table border=\"1\" class=\"dataframe\">\n",
       "  <thead>\n",
       "    <tr style=\"text-align: right;\">\n",
       "      <th></th>\n",
       "      <th>location</th>\n",
       "      <th>date</th>\n",
       "      <th>weekDay</th>\n",
       "      <th>avgTemp</th>\n",
       "      <th>highestTemp</th>\n",
       "      <th>lowestTemp</th>\n",
       "      <th>precipitation</th>\n",
       "      <th>snow</th>\n",
       "      <th>windSpeed</th>\n",
       "      <th>humidity</th>\n",
       "      <th>cloud</th>\n",
       "      <th>dayTime</th>\n",
       "      <th>weather</th>\n",
       "    </tr>\n",
       "  </thead>\n",
       "  <tbody>\n",
       "    <tr>\n",
       "      <th>0</th>\n",
       "      <td>seoul</td>\n",
       "      <td>2013-08-01</td>\n",
       "      <td>thur</td>\n",
       "      <td>28.0</td>\n",
       "      <td>32.1</td>\n",
       "      <td>24.5</td>\n",
       "      <td>-</td>\n",
       "      <td>-</td>\n",
       "      <td>1.8</td>\n",
       "      <td>66</td>\n",
       "      <td>7.1</td>\n",
       "      <td>6.0</td>\n",
       "      <td>구름많음</td>\n",
       "    </tr>\n",
       "    <tr>\n",
       "      <th>1</th>\n",
       "      <td>seoul</td>\n",
       "      <td>2013-08-02</td>\n",
       "      <td>fri</td>\n",
       "      <td>27.4</td>\n",
       "      <td>29.3</td>\n",
       "      <td>25.2</td>\n",
       "      <td>7.5</td>\n",
       "      <td>-</td>\n",
       "      <td>2.1</td>\n",
       "      <td>79</td>\n",
       "      <td>9.1</td>\n",
       "      <td>0.9</td>\n",
       "      <td>흐림/안개/비</td>\n",
       "    </tr>\n",
       "    <tr>\n",
       "      <th>2</th>\n",
       "      <td>seoul</td>\n",
       "      <td>2013-08-03</td>\n",
       "      <td>sat</td>\n",
       "      <td>28.9</td>\n",
       "      <td>32.6</td>\n",
       "      <td>26.7</td>\n",
       "      <td>0.1</td>\n",
       "      <td>-</td>\n",
       "      <td>3.6</td>\n",
       "      <td>72</td>\n",
       "      <td>8.1</td>\n",
       "      <td>8.9</td>\n",
       "      <td>흐림/소나기</td>\n",
       "    </tr>\n",
       "  </tbody>\n",
       "</table>\n",
       "</div>"
      ],
      "text/plain": [
       "  location       date weekDay  avgTemp  highestTemp  lowestTemp precipitation  \\\n",
       "0    seoul 2013-08-01    thur     28.0         32.1        24.5             -   \n",
       "1    seoul 2013-08-02     fri     27.4         29.3        25.2           7.5   \n",
       "2    seoul 2013-08-03     sat     28.9         32.6        26.7           0.1   \n",
       "\n",
       "  snow  windSpeed  humidity  cloud  dayTime  weather  \n",
       "0    -        1.8        66    7.1      6.0     구름많음  \n",
       "1    -        2.1        79    9.1      0.9  흐림/안개/비  \n",
       "2    -        3.6        72    8.1      8.9   흐림/소나기  "
      ]
     },
     "execution_count": 3,
     "metadata": {},
     "output_type": "execute_result"
    }
   ],
   "source": [
    "날씨[:3]"
   ]
  },
  {
   "cell_type": "code",
   "execution_count": 4,
   "metadata": {},
   "outputs": [],
   "source": [
    "weather = 날씨"
   ]
  },
  {
   "cell_type": "code",
   "execution_count": 5,
   "metadata": {},
   "outputs": [
    {
     "name": "stdout",
     "output_type": "stream",
     "text": [
      "  location       date weekDay  avgTemp  highestTemp  lowestTemp precipitation  \\\n",
      "0    seoul 2013-08-01    thur     28.0         32.1        24.5             -   \n",
      "1    seoul 2013-08-02     fri     27.4         29.3        25.2           7.5   \n",
      "2    seoul 2013-08-03     sat     28.9         32.6        26.7           0.1   \n",
      "\n",
      "  snow  windSpeed  humidity  cloud  dayTime  weather  \n",
      "0    -        1.8        66    7.1      6.0     구름많음  \n",
      "1    -        2.1        79    9.1      0.9  흐림/안개/비  \n",
      "2    -        3.6        72    8.1      8.9   흐림/소나기  \n"
     ]
    }
   ],
   "source": [
    "print(weather[:3])"
   ]
  },
  {
   "cell_type": "code",
   "execution_count": 6,
   "metadata": {},
   "outputs": [
    {
     "data": {
      "text/plain": [
       "0                 구름많음\n",
       "1              흐림/안개/비\n",
       "2               흐림/소나기\n",
       "3            흐림/소나기/안개\n",
       "4       구름많음/안개/천둥번개/비\n",
       "5       구름많음/안개/천둥번개/비\n",
       "6                 구름많음\n",
       "7              구름많음/안개\n",
       "8                흐림/안개\n",
       "9       구름많음/안개/천둥번개/비\n",
       "10             구름많음/안개\n",
       "11                구름많음\n",
       "12                구름조금\n",
       "13                구름많음\n",
       "14            구름많음/소나기\n",
       "15            구름많음/소나기\n",
       "16                구름많음\n",
       "17             흐림/안개/비\n",
       "18           구름조금/안개/비\n",
       "19                구름조금\n",
       "20                구름조금\n",
       "21                구름많음\n",
       "22             흐림/안개/비\n",
       "23                구름조금\n",
       "24                구름조금\n",
       "25                  맑음\n",
       "26             구름조금/안개\n",
       "27             구름많음/안개\n",
       "28        흐림/안개/천둥번개/비\n",
       "29                구름많음\n",
       "             ...      \n",
       "1430           구름많음/안개\n",
       "1431           구름조금/안개\n",
       "1432             맑음/안개\n",
       "1433           구름조금/안개\n",
       "1434              구름조금\n",
       "1435             흐림/안개\n",
       "1436              흐림/비\n",
       "1437              구름많음\n",
       "1438           구름많음/안개\n",
       "1439         구름많음/비/안개\n",
       "1440              흐림/비\n",
       "1441           흐림/비/안개\n",
       "1442           구름많음/안개\n",
       "1443           구름조금/안개\n",
       "1444              구름조금\n",
       "1445              구름많음\n",
       "1446           흐림/비/안개\n",
       "1447              흐림/비\n",
       "1448                흐림\n",
       "1449           흐림/비/안개\n",
       "1450         흐림/소나기/안개\n",
       "1451           흐림/비/안개\n",
       "1452           흐림/비/안개\n",
       "1453           흐림/비/안개\n",
       "1454         구름많음/비/안개\n",
       "1455           흐림/비/안개\n",
       "1456       구름많음/안개/이슬비\n",
       "1457      흐림/비/안개/천둥번개\n",
       "1458           구름많음/안개\n",
       "1459           구름많음/안개\n",
       "Name: weather, Length: 1460, dtype: object"
      ]
     },
     "execution_count": 6,
     "metadata": {},
     "output_type": "execute_result"
    }
   ],
   "source": [
    "weather['weather']"
   ]
  },
  {
   "cell_type": "code",
   "execution_count": 7,
   "metadata": {},
   "outputs": [
    {
     "data": {
      "text/plain": [
       "0       seoul\n",
       "1       seoul\n",
       "2       seoul\n",
       "3       seoul\n",
       "4       seoul\n",
       "5       seoul\n",
       "6       seoul\n",
       "7       seoul\n",
       "8       seoul\n",
       "9       seoul\n",
       "10      seoul\n",
       "11      seoul\n",
       "12      seoul\n",
       "13      seoul\n",
       "14      seoul\n",
       "15      seoul\n",
       "16      seoul\n",
       "17      seoul\n",
       "18      seoul\n",
       "19      seoul\n",
       "20      seoul\n",
       "21      seoul\n",
       "22      seoul\n",
       "23      seoul\n",
       "24      seoul\n",
       "25      seoul\n",
       "26      seoul\n",
       "27      seoul\n",
       "28      seoul\n",
       "29      seoul\n",
       "        ...  \n",
       "1430    suwon\n",
       "1431    suwon\n",
       "1432    suwon\n",
       "1433    suwon\n",
       "1434    suwon\n",
       "1435    suwon\n",
       "1436    suwon\n",
       "1437    suwon\n",
       "1438    suwon\n",
       "1439    suwon\n",
       "1440    suwon\n",
       "1441    suwon\n",
       "1442    suwon\n",
       "1443    suwon\n",
       "1444    suwon\n",
       "1445    suwon\n",
       "1446    suwon\n",
       "1447    suwon\n",
       "1448    suwon\n",
       "1449    suwon\n",
       "1450    suwon\n",
       "1451    suwon\n",
       "1452    suwon\n",
       "1453    suwon\n",
       "1454    suwon\n",
       "1455    suwon\n",
       "1456    suwon\n",
       "1457    suwon\n",
       "1458    suwon\n",
       "1459    suwon\n",
       "Name: location, Length: 1460, dtype: object"
      ]
     },
     "execution_count": 7,
     "metadata": {},
     "output_type": "execute_result"
    }
   ],
   "source": [
    "weather['location']"
   ]
  },
  {
   "cell_type": "code",
   "execution_count": 8,
   "metadata": {},
   "outputs": [
    {
     "data": {
      "text/plain": [
       "seoul    730\n",
       "suwon    730\n",
       "Name: location, dtype: int64"
      ]
     },
     "execution_count": 8,
     "metadata": {},
     "output_type": "execute_result"
    }
   ],
   "source": [
    "weather['location'].value_counts()"
   ]
  },
  {
   "cell_type": "code",
   "execution_count": 12,
   "metadata": {},
   "outputs": [
    {
     "data": {
      "text/html": [
       "<div>\n",
       "<style scoped>\n",
       "    .dataframe tbody tr th:only-of-type {\n",
       "        vertical-align: middle;\n",
       "    }\n",
       "\n",
       "    .dataframe tbody tr th {\n",
       "        vertical-align: top;\n",
       "    }\n",
       "\n",
       "    .dataframe thead th {\n",
       "        text-align: right;\n",
       "    }\n",
       "</style>\n",
       "<table border=\"1\" class=\"dataframe\">\n",
       "  <thead>\n",
       "    <tr style=\"text-align: right;\">\n",
       "      <th></th>\n",
       "      <th>location</th>\n",
       "      <th>date</th>\n",
       "      <th>weekDay</th>\n",
       "      <th>avgTemp</th>\n",
       "      <th>highestTemp</th>\n",
       "      <th>lowestTemp</th>\n",
       "      <th>precipitation</th>\n",
       "      <th>snow</th>\n",
       "      <th>windSpeed</th>\n",
       "      <th>humidity</th>\n",
       "      <th>cloud</th>\n",
       "      <th>dayTime</th>\n",
       "      <th>weather</th>\n",
       "    </tr>\n",
       "  </thead>\n",
       "  <tbody>\n",
       "    <tr>\n",
       "      <th>0</th>\n",
       "      <td>seoul</td>\n",
       "      <td>2013-08-01</td>\n",
       "      <td>thur</td>\n",
       "      <td>28.0</td>\n",
       "      <td>32.1</td>\n",
       "      <td>24.5</td>\n",
       "      <td>-</td>\n",
       "      <td>-</td>\n",
       "      <td>1.8</td>\n",
       "      <td>66</td>\n",
       "      <td>7.1</td>\n",
       "      <td>6.0</td>\n",
       "      <td>구름많음</td>\n",
       "    </tr>\n",
       "    <tr>\n",
       "      <th>1</th>\n",
       "      <td>seoul</td>\n",
       "      <td>2013-08-02</td>\n",
       "      <td>fri</td>\n",
       "      <td>27.4</td>\n",
       "      <td>29.3</td>\n",
       "      <td>25.2</td>\n",
       "      <td>7.5</td>\n",
       "      <td>-</td>\n",
       "      <td>2.1</td>\n",
       "      <td>79</td>\n",
       "      <td>9.1</td>\n",
       "      <td>0.9</td>\n",
       "      <td>흐림/안개/비</td>\n",
       "    </tr>\n",
       "    <tr>\n",
       "      <th>2</th>\n",
       "      <td>seoul</td>\n",
       "      <td>2013-08-03</td>\n",
       "      <td>sat</td>\n",
       "      <td>28.9</td>\n",
       "      <td>32.6</td>\n",
       "      <td>26.7</td>\n",
       "      <td>0.1</td>\n",
       "      <td>-</td>\n",
       "      <td>3.6</td>\n",
       "      <td>72</td>\n",
       "      <td>8.1</td>\n",
       "      <td>8.9</td>\n",
       "      <td>흐림/소나기</td>\n",
       "    </tr>\n",
       "  </tbody>\n",
       "</table>\n",
       "</div>"
      ],
      "text/plain": [
       "  location       date weekDay  avgTemp  highestTemp  lowestTemp precipitation  \\\n",
       "0    seoul 2013-08-01    thur     28.0         32.1        24.5             -   \n",
       "1    seoul 2013-08-02     fri     27.4         29.3        25.2           7.5   \n",
       "2    seoul 2013-08-03     sat     28.9         32.6        26.7           0.1   \n",
       "\n",
       "  snow  windSpeed  humidity  cloud  dayTime  weather  \n",
       "0    -        1.8        66    7.1      6.0     구름많음  \n",
       "1    -        2.1        79    9.1      0.9  흐림/안개/비  \n",
       "2    -        3.6        72    8.1      8.9   흐림/소나기  "
      ]
     },
     "execution_count": 12,
     "metadata": {},
     "output_type": "execute_result"
    }
   ],
   "source": [
    "local = weather['location']\n",
    "seoul_weather = weather[local == 'seoul']\n",
    "suwon_weather = weather[local == 'suwon']\n",
    "seoul_weather[:3]"
   ]
  },
  {
   "cell_type": "code",
   "execution_count": 13,
   "metadata": {},
   "outputs": [
    {
     "data": {
      "text/html": [
       "<div>\n",
       "<style scoped>\n",
       "    .dataframe tbody tr th:only-of-type {\n",
       "        vertical-align: middle;\n",
       "    }\n",
       "\n",
       "    .dataframe tbody tr th {\n",
       "        vertical-align: top;\n",
       "    }\n",
       "\n",
       "    .dataframe thead th {\n",
       "        text-align: right;\n",
       "    }\n",
       "</style>\n",
       "<table border=\"1\" class=\"dataframe\">\n",
       "  <thead>\n",
       "    <tr style=\"text-align: right;\">\n",
       "      <th></th>\n",
       "      <th>location</th>\n",
       "      <th>date</th>\n",
       "      <th>weekDay</th>\n",
       "      <th>avgTemp</th>\n",
       "      <th>highestTemp</th>\n",
       "      <th>lowestTemp</th>\n",
       "      <th>precipitation</th>\n",
       "      <th>snow</th>\n",
       "      <th>windSpeed</th>\n",
       "      <th>humidity</th>\n",
       "      <th>cloud</th>\n",
       "      <th>dayTime</th>\n",
       "      <th>weather</th>\n",
       "    </tr>\n",
       "  </thead>\n",
       "  <tbody>\n",
       "    <tr>\n",
       "      <th>153</th>\n",
       "      <td>suwon</td>\n",
       "      <td>2013-08-01</td>\n",
       "      <td>thur</td>\n",
       "      <td>27.8</td>\n",
       "      <td>33.1</td>\n",
       "      <td>22.8</td>\n",
       "      <td>-</td>\n",
       "      <td>-</td>\n",
       "      <td>1.1</td>\n",
       "      <td>72</td>\n",
       "      <td>5.4</td>\n",
       "      <td>10.3</td>\n",
       "      <td>구름많음/안개</td>\n",
       "    </tr>\n",
       "    <tr>\n",
       "      <th>154</th>\n",
       "      <td>suwon</td>\n",
       "      <td>2013-08-02</td>\n",
       "      <td>fri</td>\n",
       "      <td>28.2</td>\n",
       "      <td>32.6</td>\n",
       "      <td>25.8</td>\n",
       "      <td>0.8</td>\n",
       "      <td>-</td>\n",
       "      <td>1.5</td>\n",
       "      <td>82</td>\n",
       "      <td>8.1</td>\n",
       "      <td>2.7</td>\n",
       "      <td>흐림/안개/비</td>\n",
       "    </tr>\n",
       "    <tr>\n",
       "      <th>155</th>\n",
       "      <td>suwon</td>\n",
       "      <td>2013-08-03</td>\n",
       "      <td>sat</td>\n",
       "      <td>28.6</td>\n",
       "      <td>33.9</td>\n",
       "      <td>25.7</td>\n",
       "      <td>0.3</td>\n",
       "      <td>-</td>\n",
       "      <td>2.1</td>\n",
       "      <td>82</td>\n",
       "      <td>7.8</td>\n",
       "      <td>7.1</td>\n",
       "      <td>구름많음/소나기</td>\n",
       "    </tr>\n",
       "  </tbody>\n",
       "</table>\n",
       "</div>"
      ],
      "text/plain": [
       "    location       date weekDay  avgTemp  highestTemp  lowestTemp  \\\n",
       "153    suwon 2013-08-01    thur     27.8         33.1        22.8   \n",
       "154    suwon 2013-08-02     fri     28.2         32.6        25.8   \n",
       "155    suwon 2013-08-03     sat     28.6         33.9        25.7   \n",
       "\n",
       "    precipitation snow  windSpeed  humidity  cloud  dayTime   weather  \n",
       "153             -    -        1.1        72    5.4     10.3   구름많음/안개  \n",
       "154           0.8    -        1.5        82    8.1      2.7   흐림/안개/비  \n",
       "155           0.3    -        2.1        82    7.8      7.1  구름많음/소나기  "
      ]
     },
     "execution_count": 13,
     "metadata": {},
     "output_type": "execute_result"
    }
   ],
   "source": [
    "suwon_weather[:3]"
   ]
  },
  {
   "cell_type": "code",
   "execution_count": 14,
   "metadata": {},
   "outputs": [
    {
     "data": {
      "text/plain": [
       "13.365616438356167"
      ]
     },
     "execution_count": 14,
     "metadata": {},
     "output_type": "execute_result"
    }
   ],
   "source": [
    "seoul_weather['avgTemp'].mean()"
   ]
  },
  {
   "cell_type": "code",
   "execution_count": 15,
   "metadata": {},
   "outputs": [
    {
     "data": {
      "text/plain": [
       "13.167123287671233"
      ]
     },
     "execution_count": 15,
     "metadata": {},
     "output_type": "execute_result"
    }
   ],
   "source": [
    "suwon_weather['avgTemp'].mean()"
   ]
  },
  {
   "cell_type": "code",
   "execution_count": 17,
   "metadata": {},
   "outputs": [
    {
     "data": {
      "text/plain": [
       "True     396\n",
       "False    334\n",
       "Name: avgTemp, dtype: int64"
      ]
     },
     "execution_count": 17,
     "metadata": {},
     "output_type": "execute_result"
    }
   ],
   "source": [
    "hotter_then_avg_seoul = seoul_weather['avgTemp'] > seoul_weather['avgTemp'].mean()\n",
    "hotter_then_avg_seoul.value_counts()"
   ]
  },
  {
   "cell_type": "code",
   "execution_count": 19,
   "metadata": {},
   "outputs": [
    {
     "data": {
      "text/plain": [
       "396"
      ]
     },
     "execution_count": 19,
     "metadata": {},
     "output_type": "execute_result"
    }
   ],
   "source": [
    "len(seoul_weather[hotter_then_avg_seoul])"
   ]
  },
  {
   "cell_type": "code",
   "execution_count": 21,
   "metadata": {},
   "outputs": [
    {
     "data": {
      "text/plain": [
       "<matplotlib.axes._subplots.AxesSubplot at 0x7f3c20b0f940>"
      ]
     },
     "execution_count": 21,
     "metadata": {},
     "output_type": "execute_result"
    },
    {
     "data": {
      "image/png": "[encoded data removed]",
      "text/plain": [
       "<Figure size 432x288 with 1 Axes>"
      ]
     },
     "metadata": {},
     "output_type": "display_data"
    }
   ],
   "source": [
    "hot_seoul_weather = seoul_weather[hotter_then_avg_seoul]\n",
    "hot_seoul_weather['avgTemp'][:10].plot(kind='bar')"
   ]
  },
  {
   "cell_type": "code",
   "execution_count": 23,
   "metadata": {},
   "outputs": [
    {
     "data": {
      "text/html": [
       "<div>\n",
       "<style scoped>\n",
       "    .dataframe tbody tr th:only-of-type {\n",
       "        vertical-align: middle;\n",
       "    }\n",
       "\n",
       "    .dataframe tbody tr th {\n",
       "        vertical-align: top;\n",
       "    }\n",
       "\n",
       "    .dataframe thead th {\n",
       "        text-align: right;\n",
       "    }\n",
       "</style>\n",
       "<table border=\"1\" class=\"dataframe\">\n",
       "  <thead>\n",
       "    <tr style=\"text-align: right;\">\n",
       "      <th>location</th>\n",
       "      <th>seoul</th>\n",
       "      <th>suwon</th>\n",
       "    </tr>\n",
       "    <tr>\n",
       "      <th>weekDay</th>\n",
       "      <th></th>\n",
       "      <th></th>\n",
       "    </tr>\n",
       "  </thead>\n",
       "  <tbody>\n",
       "    <tr>\n",
       "      <th>fri</th>\n",
       "      <td>13.330476</td>\n",
       "      <td>13.135238</td>\n",
       "    </tr>\n",
       "    <tr>\n",
       "      <th>mon</th>\n",
       "      <td>13.366346</td>\n",
       "      <td>13.239423</td>\n",
       "    </tr>\n",
       "    <tr>\n",
       "      <th>sat</th>\n",
       "      <td>13.725962</td>\n",
       "      <td>13.375000</td>\n",
       "    </tr>\n",
       "    <tr>\n",
       "      <th>sun</th>\n",
       "      <td>13.588462</td>\n",
       "      <td>13.374038</td>\n",
       "    </tr>\n",
       "    <tr>\n",
       "      <th>thur</th>\n",
       "      <td>13.208571</td>\n",
       "      <td>13.053333</td>\n",
       "    </tr>\n",
       "    <tr>\n",
       "      <th>tue</th>\n",
       "      <td>13.083654</td>\n",
       "      <td>12.900000</td>\n",
       "    </tr>\n",
       "    <tr>\n",
       "      <th>wed</th>\n",
       "      <td>13.257692</td>\n",
       "      <td>13.094231</td>\n",
       "    </tr>\n",
       "  </tbody>\n",
       "</table>\n",
       "</div>"
      ],
      "text/plain": [
       "location      seoul      suwon\n",
       "weekDay                       \n",
       "fri       13.330476  13.135238\n",
       "mon       13.366346  13.239423\n",
       "sat       13.725962  13.375000\n",
       "sun       13.588462  13.374038\n",
       "thur      13.208571  13.053333\n",
       "tue       13.083654  12.900000\n",
       "wed       13.257692  13.094231"
      ]
     },
     "execution_count": 23,
     "metadata": {},
     "output_type": "execute_result"
    }
   ],
   "source": [
    "weekday_loc_avg_temp = weather.pivot_table('avgTemp', aggfunc='mean', index='weekDay', columns='location')\n",
    "weekday_loc_avg_temp"
   ]
  },
  {
   "cell_type": "code",
   "execution_count": 24,
   "metadata": {},
   "outputs": [
    {
     "data": {
      "text/html": [
       "<div>\n",
       "<style scoped>\n",
       "    .dataframe tbody tr th:only-of-type {\n",
       "        vertical-align: middle;\n",
       "    }\n",
       "\n",
       "    .dataframe tbody tr th {\n",
       "        vertical-align: top;\n",
       "    }\n",
       "\n",
       "    .dataframe thead th {\n",
       "        text-align: right;\n",
       "    }\n",
       "</style>\n",
       "<table border=\"1\" class=\"dataframe\">\n",
       "  <thead>\n",
       "    <tr style=\"text-align: right;\">\n",
       "      <th>location</th>\n",
       "      <th>seoul</th>\n",
       "      <th>suwon</th>\n",
       "    </tr>\n",
       "    <tr>\n",
       "      <th>weekDay</th>\n",
       "      <th></th>\n",
       "      <th></th>\n",
       "    </tr>\n",
       "  </thead>\n",
       "  <tbody>\n",
       "    <tr>\n",
       "      <th>mon</th>\n",
       "      <td>13.366346</td>\n",
       "      <td>13.239423</td>\n",
       "    </tr>\n",
       "    <tr>\n",
       "      <th>tue</th>\n",
       "      <td>13.083654</td>\n",
       "      <td>12.900000</td>\n",
       "    </tr>\n",
       "    <tr>\n",
       "      <th>wed</th>\n",
       "      <td>13.257692</td>\n",
       "      <td>13.094231</td>\n",
       "    </tr>\n",
       "    <tr>\n",
       "      <th>thur</th>\n",
       "      <td>13.208571</td>\n",
       "      <td>13.053333</td>\n",
       "    </tr>\n",
       "    <tr>\n",
       "      <th>fri</th>\n",
       "      <td>13.330476</td>\n",
       "      <td>13.135238</td>\n",
       "    </tr>\n",
       "    <tr>\n",
       "      <th>sat</th>\n",
       "      <td>13.725962</td>\n",
       "      <td>13.375000</td>\n",
       "    </tr>\n",
       "    <tr>\n",
       "      <th>sun</th>\n",
       "      <td>13.588462</td>\n",
       "      <td>13.374038</td>\n",
       "    </tr>\n",
       "  </tbody>\n",
       "</table>\n",
       "</div>"
      ],
      "text/plain": [
       "location      seoul      suwon\n",
       "weekDay                       \n",
       "mon       13.366346  13.239423\n",
       "tue       13.083654  12.900000\n",
       "wed       13.257692  13.094231\n",
       "thur      13.208571  13.053333\n",
       "fri       13.330476  13.135238\n",
       "sat       13.725962  13.375000\n",
       "sun       13.588462  13.374038"
      ]
     },
     "execution_count": 24,
     "metadata": {},
     "output_type": "execute_result"
    }
   ],
   "source": [
    "weekday_series = ['mon', 'tue', 'wed', 'thur', 'fri', 'sat', 'sun']\n",
    "weekday_loc_avg_temp = weekday_loc_avg_temp.loc[weekday_series]\n",
    "weekday_loc_avg_temp"
   ]
  },
  {
   "cell_type": "code",
   "execution_count": 25,
   "metadata": {},
   "outputs": [
    {
     "data": {
      "text/plain": [
       "<matplotlib.axes._subplots.AxesSubplot at 0x7f3c20a81240>"
      ]
     },
     "execution_count": 25,
     "metadata": {},
     "output_type": "execute_result"
    },
    {
     "data": {
      "image/png": "[encoded data removed]",
      "text/plain": [
       "<Figure size 432x288 with 1 Axes>"
      ]
     },
     "metadata": {},
     "output_type": "display_data"
    }
   ],
   "source": [
    "weekday_loc_avg_temp.plot()"
   ]
  },
  {
   "cell_type": "code",
   "execution_count": 27,
   "metadata": {},
   "outputs": [
    {
     "data": {
      "text/plain": [
       "맑음                    226\n",
       "구름조금                  178\n",
       "구름조금/안개               160\n",
       "구름많음/안개               140\n",
       "맑음/안개                 119\n",
       "구름많음                  112\n",
       "흐림/비                   95\n",
       "흐림/안개/비                50\n",
       "흐림/안개                  40\n",
       "구름많음/비                 36\n",
       "구름많음/안개/비              33\n",
       "흐림/비/안개                27\n",
       "흐림                     23\n",
       "구름조금/비                 21\n",
       "구름많음/비/안개              17\n",
       "구름조금/안개/비              16\n",
       "구름많음/눈                  8\n",
       "구름많음/소나기                8\n",
       "맑음/황사                   7\n",
       "구름조금/황사                 7\n",
       "구름많음/소나기/안개/천둥번개        6\n",
       "구름조금/안개/황사              5\n",
       "구름조금/안개/눈               5\n",
       "구름많음/소나기/안개             5\n",
       "구름조금/눈                  5\n",
       "흐림/눈                    5\n",
       "흐림/비/안개/이슬비             5\n",
       "흐림/안개/이슬비               5\n",
       "구름조금/비/안개               4\n",
       "흐림/안개/눈                 4\n",
       "                     ... \n",
       "구름많음/비/안개/이슬비           2\n",
       "흐림/소나기                  2\n",
       "구름많음/진눈개비               2\n",
       "흐림/비/천둥번개               2\n",
       "흐림/눈/안개                 1\n",
       "구름많음/안개/황사              1\n",
       "구름많음/비/천둥번개             1\n",
       "구름많음/황사                 1\n",
       "구름많음/비/소나기/안개           1\n",
       "흐림/비/이슬비                1\n",
       "구름조금/비/안개/천둥번개          1\n",
       "흐림/비/안개/진눈개비            1\n",
       "구름조금/황사/비               1\n",
       "구름많음/안개/진눈개비            1\n",
       "구름많음/안개/천둥번개/눈          1\n",
       "흐림/비/안개/황사              1\n",
       "흐림/비/안개/천둥번개            1\n",
       "구름많음/천둥번개/눈             1\n",
       "구름많음/비/소나기/안개/천둥번개      1\n",
       "구름많음/비/안개/황사            1\n",
       "구름많음/소낙눈/안개             1\n",
       "구름조금/눈/소낙눈              1\n",
       "흐림/비/소나기/안개             1\n",
       "구름조금/비/안개/천둥번개/황사       1\n",
       "구름많음/천둥번개/비             1\n",
       "흐림/소낙눈/안개               1\n",
       "구름많음/눈/진눈개비             1\n",
       "구름많음/비/소나기              1\n",
       "구름조금/소나기/천둥번개           1\n",
       "구름조금/눈/안개               1\n",
       "Name: weather, Length: 79, dtype: int64"
      ]
     },
     "execution_count": 27,
     "metadata": {},
     "output_type": "execute_result"
    }
   ],
   "source": [
    "weather['weather'].value_counts()"
   ]
  },
  {
   "cell_type": "code",
   "execution_count": 29,
   "metadata": {},
   "outputs": [],
   "source": [
    "snow_or_rain = weather['weather'].str.contains('눈|비')"
   ]
  },
  {
   "cell_type": "code",
   "execution_count": 31,
   "metadata": {},
   "outputs": [
    {
     "data": {
      "text/plain": [
       "False    1060\n",
       "True      400\n",
       "Name: weather, dtype: int64"
      ]
     },
     "execution_count": 31,
     "metadata": {},
     "output_type": "execute_result"
    }
   ],
   "source": [
    "snow_or_rain.value_counts()"
   ]
  },
  {
   "cell_type": "code",
   "execution_count": 32,
   "metadata": {},
   "outputs": [
    {
     "data": {
      "text/html": [
       "<div>\n",
       "<style scoped>\n",
       "    .dataframe tbody tr th:only-of-type {\n",
       "        vertical-align: middle;\n",
       "    }\n",
       "\n",
       "    .dataframe tbody tr th {\n",
       "        vertical-align: top;\n",
       "    }\n",
       "\n",
       "    .dataframe thead th {\n",
       "        text-align: right;\n",
       "    }\n",
       "</style>\n",
       "<table border=\"1\" class=\"dataframe\">\n",
       "  <thead>\n",
       "    <tr style=\"text-align: right;\">\n",
       "      <th>weather</th>\n",
       "      <th>False</th>\n",
       "      <th>True</th>\n",
       "    </tr>\n",
       "    <tr>\n",
       "      <th>location</th>\n",
       "      <th></th>\n",
       "      <th></th>\n",
       "    </tr>\n",
       "  </thead>\n",
       "  <tbody>\n",
       "    <tr>\n",
       "      <th>seoul</th>\n",
       "      <td>13.015939</td>\n",
       "      <td>14.273399</td>\n",
       "    </tr>\n",
       "    <tr>\n",
       "      <th>suwon</th>\n",
       "      <td>12.996435</td>\n",
       "      <td>13.628934</td>\n",
       "    </tr>\n",
       "  </tbody>\n",
       "</table>\n",
       "</div>"
      ],
      "text/plain": [
       "weather       False      True \n",
       "location                      \n",
       "seoul     13.015939  14.273399\n",
       "suwon     12.996435  13.628934"
      ]
     },
     "execution_count": 32,
     "metadata": {},
     "output_type": "execute_result"
    }
   ],
   "source": [
    "weather.pivot_table('avgTemp', aggfunc='mean', index='location', columns=snow_or_rain)"
   ]
  },
  {
   "cell_type": "code",
   "execution_count": null,
   "metadata": {},
   "outputs": [],
   "source": []
  }
 ],
 "metadata": {
  "kernelspec": {
   "display_name": "Python 3",
   "language": "python",
   "name": "python3"
  },
  "language_info": {
   "codemirror_mode": {
    "name": "ipython",
    "version": 3
   },
   "file_extension": ".py",
   "mimetype": "text/x-python",
   "name": "python",
   "nbconvert_exporter": "python",
   "pygments_lexer": "ipython3",
   "version": "3.6.5"
  }
 },
 "nbformat": 4,
 "nbformat_minor": 2
}
